{
 "cells": [
  {
   "cell_type": "code",
   "execution_count": 50,
   "metadata": {},
   "outputs": [],
   "source": [
    "import os\n",
    "from pymatgen.io.vasp.outputs import Vasprun\n",
    "from pymatgen.electronic_structure.core import Spin, Orbital\n",
    "import numpy as np\n",
    "from copy import deepcopy\n",
    "import matplotlib as mpl\n",
    "mpl.use('Agg');\n",
    "from matplotlib import pyplot as plt\n",
    "import argparse"
   ]
  },
  {
   "cell_type": "code",
   "execution_count": 51,
   "metadata": {},
   "outputs": [],
   "source": [
    "def extractVasprun(VPRunFile):\n",
    "    '''\n",
    "    Extract neccessary information from vasprun.xml\n",
    "    '''\n",
    "    VPR=Vasprun(VPRunFile);\n",
    "    TDOS,IDOS,PDOS=VPR.tdos,VPR.idos,VPR.pdos;\n",
    "    Energies=TDOS.energies-TDOS.efermi;\n",
    "    ProtoStr=VPR.structures[-1];\n",
    "    EleSyms=list(ProtoStr.symbol_set);\n",
    "    EleIndDict={Ele:list(ProtoStr.indices_from_symbol(Ele)) for Ele in EleSyms};\n",
    "    NAtom=len(ProtoStr);\n",
    "    return Energies, PDOS, NAtom, EleIndDict, EleSyms;"
   ]
  },
  {
   "cell_type": "code",
   "execution_count": 56,
   "metadata": {},
   "outputs": [
    {
     "name": "stdout",
     "output_type": "stream",
     "text": [
      "[-4.67311572 -4.66311572 -4.65311572 ... 10.30688428 10.31688428\n",
      " 10.32688428]\n"
     ]
    }
   ],
   "source": [
    "Energies,PDOS,NAtom,EleIndDict,EleSyms=extractVasprun('../3.gamma_band/vasprun.xml')\n",
    "print(Energies)"
   ]
  },
  {
   "cell_type": "code",
   "execution_count": 53,
   "metadata": {},
   "outputs": [],
   "source": [
    "def get_atom_pdos(EleIndDict,EleSyms,Energies,PDOS,NAtom,maxsqn=3,sm=2,ELim=[-5.0,5.0]):\n",
    "    '''\n",
    "    Get the atomic projected density of states,\n",
    "    will return the figure handle for further process\n",
    "    '''\n",
    "    AtomDOSColor = ['g','y','r','b'];\n",
    "    NOrb=0; OrbIndsGrp=[]; Spins=[]; OrbLst=list(Orbital);\n",
    "    OrbDict={0:'s',1:'p',2:'d',3:'f'};\n",
    "    SpinName={0:Spin.up,1:Spin.down};\n",
    "    for s in range(sm): Spins.append(SpinName[s]);\n",
    "\n",
    "    ###Start the visualization\n",
    "    PDOSArryDict={}; MaxDOS=0; MinDOS=1e10;itmp=0;\n",
    "    PDOSData = np.zeros((len(Energies),2*len(EleSyms)))\n",
    "    Fig=plt.figure(figsize=(4,6));\n",
    "    for EleInd, EleSym in enumerate(EleSyms):\n",
    "        IndLst=EleIndDict[EleSym];\n",
    "        for si,s in enumerate(Spins):\n",
    "            DOSArry=np.zeros(PDOS[0][OrbLst[0]][s].shape);\n",
    "            for AtomInd in IndLst:\n",
    "                for OrbInd,Orb in enumerate(OrbLst):\n",
    "                    if si%2==0: DOSArry+=PDOS[AtomInd][Orb][s];\n",
    "                    else: DOSArry-=PDOS[AtomInd][Orb][s];\n",
    "            if si%2==0:\n",
    "                plt.plot(DOSArry,Energies,color=AtomDOSColor[EleInd],\\\n",
    "                        linewidth=2.0,label=EleSym);\n",
    "                Tag='{}_up'.format(EleSym);\n",
    "            else:\n",
    "                plt.plot(DOSArry,Energies,color=AtomDOSColor[EleInd],linewidth=2.0);\n",
    "                Tag='{}_dn'.format(EleSym);\n",
    "            PDOSArryDict[Tag]=DOSArry;\n",
    "            PDOSData[:,itmp]=DOSArry;\n",
    "            itmp = itmp + 1;\n",
    "            if np.max(DOSArry[5:-5]) > MaxDOS: MaxDOS=np.max(DOSArry[5:-5]);\n",
    "            if np.min(DOSArry[5:-5]) < MinDOS: MinDOS=np.min(DOSArry[5:-5]);\n",
    "    ####Some logistics for visualization\n",
    "    plt.xlabel('DOS (a.u.)',fontsize=21); plt.ylabel('E-E$_f$ (eV)',fontsize=21);\n",
    "    plt.xlim((MinDOS*1.1,MaxDOS*1.1));\n",
    "    plt.ylim((ELim[0],ELim[1]));\n",
    "    plt.xticks(fontsize=18); plt.yticks(fontsize=18);\n",
    "    plt.legend(fontsize=18,loc='best');\n",
    "    plt.tight_layout();\n",
    "    return plt, PDOSArryDict, PDOSData;"
   ]
  },
  {
   "cell_type": "code",
   "execution_count": 54,
   "metadata": {},
   "outputs": [],
   "source": [
    "plt,PDOSArryDict,PDOSData=get_atom_pdos(EleIndDict,EleSyms,Energies,PDOS,NAtom,4,2,[-1.8,7.8])"
   ]
  },
  {
   "cell_type": "code",
   "execution_count": 55,
   "metadata": {},
   "outputs": [
    {
     "name": "stdout",
     "output_type": "stream",
     "text": [
      "8\n"
     ]
    }
   ],
   "source": [
    "print(2*len(EleSyms))\n",
    "aa = np.zeros((3,2))\n",
    "aa[:,0] = [1,2,3]\n",
    "np.savetxt('test.out', PDOSData)"
   ]
  },
  {
   "cell_type": "code",
   "execution_count": null,
   "metadata": {},
   "outputs": [],
   "source": []
  }
 ],
 "metadata": {
  "kernelspec": {
   "display_name": "Python [conda env:cms] *",
   "language": "python",
   "name": "conda-env-cms-py"
  },
  "language_info": {
   "codemirror_mode": {
    "name": "ipython",
    "version": 3
   },
   "file_extension": ".py",
   "mimetype": "text/x-python",
   "name": "python",
   "nbconvert_exporter": "python",
   "pygments_lexer": "ipython3",
   "version": "3.7.3"
  }
 },
 "nbformat": 4,
 "nbformat_minor": 2
}
